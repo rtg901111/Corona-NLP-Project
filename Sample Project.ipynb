{
 "cells": [
  {
   "cell_type": "code",
   "execution_count": 7,
   "metadata": {},
   "outputs": [],
   "source": [
    "import os\n",
    "import pandas as pd\n",
    "import json\n",
    "import nltk\n",
    "\n",
    "from sklearn.feature_extraction.text import TfidfVectorizer\n",
    "from sklearn.model_selection import train_test_split\n",
    "from sklearn.model_selection import cross_val_score\n",
    "from sklearn.model_selection import cross_val_predict\n",
    "from sklearn.linear_model import SGDClassifier\n",
    "\n",
    "import numpy as np\n",
    "import pickle"
   ]
  },
  {
   "cell_type": "code",
   "execution_count": 8,
   "metadata": {},
   "outputs": [],
   "source": [
    "data = pd.read_csv('sample.csv')"
   ]
  },
  {
   "cell_type": "code",
   "execution_count": 9,
   "metadata": {},
   "outputs": [],
   "source": [
    "def vectorize(text, maxfeatures):\n",
    "    vectorizer = TfidfVectorizer(max_df=0.1,\n",
    "                                 min_df = 0.05,\n",
    "                                 ngram_range = (1,2),\n",
    "                                 max_features=maxfeatures)\n",
    "    X = vectorizer.fit_transform(text)\n",
    "    return X"
   ]
  },
  {
   "cell_type": "code",
   "execution_count": 10,
   "metadata": {},
   "outputs": [],
   "source": [
    "text = data['body_text_new'].values\n",
    "X = vectorize(text, 2 ** 10)"
   ]
  },
  {
   "cell_type": "code",
   "execution_count": 11,
   "metadata": {},
   "outputs": [],
   "source": [
    "sgd_clf = pickle.load(open(\"sgd_clf.pkl\", \"rb\"))"
   ]
  },
  {
   "cell_type": "code",
   "execution_count": 13,
   "metadata": {},
   "outputs": [],
   "source": [
    "y_predictions = sgd_clf.predict(X)"
   ]
  },
  {
   "cell_type": "code",
   "execution_count": 14,
   "metadata": {},
   "outputs": [],
   "source": [
    "data['y_predictions'] = y_predictions"
   ]
  },
  {
   "cell_type": "code",
   "execution_count": 17,
   "metadata": {},
   "outputs": [
    {
     "name": "stdout",
     "output_type": "stream",
     "text": [
      "Topic 0:\n",
      "cells, sequence, cell, genome, protein, sequences, infection, bats, viral, population, host, gene, specie, covs, cov, genes, alecto\n",
      "\n",
      "Topic 1:\n",
      "covid-, surgery, group, treatment, mask, case, imaging, lung, hospital, infection, study, risk, surgical, care, ppe, respiratory, influenza\n",
      "\n",
      "Topic 2:\n",
      "individual, epidemic, population, rate, parameter, testing, social, contact, node, network, spatial, algorithm, graph, model, air, study\n",
      "\n",
      "Topic 3:\n",
      "rna, hcv, compound, viral, virus, sequence, membrane, activity, structure, codon, binding, gene, cell, cells, peptide\n",
      "\n",
      "Topic 4:\n",
      "cells, ang, expression, patient, binding, covid-, sars-cov-, cell, rbd, sars-cov, gene, lung, activity, viral, mouse, infection\n",
      "\n",
      "Topic 5:\n",
      "infection, gene, nsp, sequence, assay, viral, infected, expression, proteins, membrane, rna, ifitm, mouse\n",
      "\n",
      "Topic 6:\n",
      "cat, infection, dog, fip, virus, gene, feline, strain, case, clinical, concentration, animal, human, treatment, population\n",
      "\n",
      "Topic 7:\n",
      "protein, rna, gene, virus, activity, expression, vaccine, production, acid, specie, extract, compound, pathogen, group, human, host, authority, author\n",
      "\n",
      "Topic 8:\n",
      "virus, cells, viral, gene, mouse, sequence, protein, strain, study, vaccine, genome, case, patient, concentration, infection, surface, cell\n",
      "\n",
      "Topic 9:\n",
      "patient, protein, camel, human, mouse, sars-cov, vaccine, case, cells, binding, transmission, mers, antibody, outbreak, viral, rna, lung\n",
      "\n",
      "Topic 10:\n",
      "health, patient, disease, care, case, public, outbreak, research, data, social, information, user, study, market, model, result\n",
      "\n",
      "Topic 11:\n",
      "treatment, milk, infection, colostrum, concentration, strain, sample, herd, antibody, diarrhea, cells, bcov, serum, bovine, gene, cow, cattle, production, beef\n",
      "\n",
      "Topic 12:\n",
      "pedv, pig, cells, piglet, strain, sequence, farm, group, animal, gene, infection, cell, intestinal, rna, disease, protein, patient, mucosal, immune\n",
      "\n",
      "Topic 13:\n",
      "influenza, asthma, viral, patient, detection, pneumonia, pcr, child, infant, year, bacterial, antibiotic, airway, age, cells, bronchiolitis\n",
      "\n",
      "Topic 14:\n",
      "patient, case, covid-, day, model, rate, population, transmission, infected, sars-cov-, health, clinical, risk, sample, viral, study\n",
      "\n",
      "Topic 15:\n",
      "cells, lung, infection, covid-, il-, group, donor, cell, blood, treatment, mortality, day, case, care, year, method\n",
      "\n",
      "Topic 16:\n",
      "epitope, il-, mouse, peptide, antibody, infection, virus, binding, protein, patient, vaccine, viral, cns, expression, mice\n",
      "\n",
      "\n"
     ]
    }
   ],
   "source": [
    "with open('topics.txt','r') as fout:\n",
    "    print(fout.read())"
   ]
  },
  {
   "cell_type": "code",
   "execution_count": 21,
   "metadata": {},
   "outputs": [
    {
     "data": {
      "text/html": [
       "<div>\n",
       "<style scoped>\n",
       "    .dataframe tbody tr th:only-of-type {\n",
       "        vertical-align: middle;\n",
       "    }\n",
       "\n",
       "    .dataframe tbody tr th {\n",
       "        vertical-align: top;\n",
       "    }\n",
       "\n",
       "    .dataframe thead th {\n",
       "        text-align: right;\n",
       "    }\n",
       "</style>\n",
       "<table border=\"1\" class=\"dataframe\">\n",
       "  <thead>\n",
       "    <tr style=\"text-align: right;\">\n",
       "      <th></th>\n",
       "      <th>title</th>\n",
       "      <th>abstract</th>\n",
       "      <th>body_text</th>\n",
       "      <th>y_predictions</th>\n",
       "    </tr>\n",
       "  </thead>\n",
       "  <tbody>\n",
       "    <tr>\n",
       "      <th>0</th>\n",
       "      <td>humoral innate immune response and disease</td>\n",
       "      <td>Abstract\\n\\nThe humoral innate immune response...</td>\n",
       "      <td>Introduction\\n\\nAs the first line of defense, ...</td>\n",
       "      <td>8</td>\n",
       "    </tr>\n",
       "    <tr>\n",
       "      <th>1</th>\n",
       "      <td>journal pre-proof aerosol generating procedure...</td>\n",
       "      <td>Abstract\\n\\nThe transmission behaviour of seve...</td>\n",
       "      <td>Introduction\\n\\nSince first being reported in ...</td>\n",
       "      <td>8</td>\n",
       "    </tr>\n",
       "    <tr>\n",
       "      <th>2</th>\n",
       "      <td>leptospirosis-associated catastrophic respirat...</td>\n",
       "      <td>Abstract\\n\\nevidence of leptospirosis-associat...</td>\n",
       "      <td>Introduction\\n\\nLeptospirosis is a zoonosis ca...</td>\n",
       "      <td>8</td>\n",
       "    </tr>\n",
       "    <tr>\n",
       "      <th>3</th>\n",
       "      <td>aircraft engine exhaust emissions and other ai...</td>\n",
       "      <td>Abstract\\n\\nAviation is globally growing (þ5% ...</td>\n",
       "      <td>Introduction\\n\\nAmong pollution issues, poor a...</td>\n",
       "      <td>13</td>\n",
       "    </tr>\n",
       "    <tr>\n",
       "      <th>4</th>\n",
       "      <td>severe acute respiratory syndrome: temporal st...</td>\n",
       "      <td>Abstract\\n\\nWe analyzed temporal stability and...</td>\n",
       "      <td>\\n\\nWe analyzed temporal stability and geograp...</td>\n",
       "      <td>2</td>\n",
       "    </tr>\n",
       "  </tbody>\n",
       "</table>\n",
       "</div>"
      ],
      "text/plain": [
       "                                               title  \\\n",
       "0         humoral innate immune response and disease   \n",
       "1  journal pre-proof aerosol generating procedure...   \n",
       "2  leptospirosis-associated catastrophic respirat...   \n",
       "3  aircraft engine exhaust emissions and other ai...   \n",
       "4  severe acute respiratory syndrome: temporal st...   \n",
       "\n",
       "                                            abstract  \\\n",
       "0  Abstract\\n\\nThe humoral innate immune response...   \n",
       "1  Abstract\\n\\nThe transmission behaviour of seve...   \n",
       "2  Abstract\\n\\nevidence of leptospirosis-associat...   \n",
       "3  Abstract\\n\\nAviation is globally growing (þ5% ...   \n",
       "4  Abstract\\n\\nWe analyzed temporal stability and...   \n",
       "\n",
       "                                           body_text  y_predictions  \n",
       "0  Introduction\\n\\nAs the first line of defense, ...              8  \n",
       "1  Introduction\\n\\nSince first being reported in ...              8  \n",
       "2  Introduction\\n\\nLeptospirosis is a zoonosis ca...              8  \n",
       "3  Introduction\\n\\nAmong pollution issues, poor a...             13  \n",
       "4  \\n\\nWe analyzed temporal stability and geograp...              2  "
      ]
     },
     "execution_count": 21,
     "metadata": {},
     "output_type": "execute_result"
    }
   ],
   "source": [
    "#Predict each article's topic\n",
    "data = data[['title','abstract','body_text','y_predictions']]\n",
    "data.head()"
   ]
  },
  {
   "cell_type": "code",
   "execution_count": null,
   "metadata": {},
   "outputs": [],
   "source": []
  }
 ],
 "metadata": {
  "kernelspec": {
   "display_name": "Python 3",
   "language": "python",
   "name": "python3"
  },
  "language_info": {
   "codemirror_mode": {
    "name": "ipython",
    "version": 3
   },
   "file_extension": ".py",
   "mimetype": "text/x-python",
   "name": "python",
   "nbconvert_exporter": "python",
   "pygments_lexer": "ipython3",
   "version": "3.8.2"
  }
 },
 "nbformat": 4,
 "nbformat_minor": 4
}
